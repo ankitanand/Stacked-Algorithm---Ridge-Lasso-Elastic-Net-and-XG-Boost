{
 "cells": [
  {
   "cell_type": "markdown",
   "metadata": {},
   "source": [
    "## Kindly note the codes below is only a framework. Due to the time constraints model optimisation was pushed into the next steps\n",
    "\n",
    "## Listed below are the next steps that can be done \n",
    "### 1. Topic modelling on board_rating_reason columns\n",
    "### 2. Resampling methods, listed below, can be used to reduce overfitting\n",
    "####        a. LOOCV\n",
    "####        b. k-fold\n",
    "####        c. bootstraping\n",
    "\n",
    "### 3. More models can be added to stacked algorithms such as \n",
    "####        a. SVM\n",
    "####        b. CNN\n",
    "####        c. LightGBM\n",
    "####        d. CatBoost\n",
    "####        e. Kernel Ridge regression\n",
    "\n",
    "### 4. In Data Engineering section ANOVA test can be carried to make the feature selection more statistically profound\n"
   ]
  },
  {
   "cell_type": "markdown",
   "metadata": {},
   "source": [
    "#### All case packages imported in the beginning, they are segregated depending on the tast that would be used to accomplish using them"
   ]
  },
  {
   "cell_type": "code",
   "execution_count": 1,
   "metadata": {},
   "outputs": [],
   "source": [
    "# Project packages\n",
    "import pandas as pd\n",
    "import numpy as np\n",
    "import math"
   ]
  },
  {
   "cell_type": "code",
   "execution_count": 2,
   "metadata": {},
   "outputs": [],
   "source": [
    "# Visualisations\n",
    "import matplotlib.pyplot as plt \n",
    "import seaborn as sns"
   ]
  },
  {
   "cell_type": "code",
   "execution_count": 3,
   "metadata": {},
   "outputs": [],
   "source": [
    "# Statistics\n",
    "from scipy import stats\n",
    "from scipy.stats import norm, skew\n",
    "from statistics import mode"
   ]
  },
  {
   "cell_type": "code",
   "execution_count": 4,
   "metadata": {},
   "outputs": [],
   "source": [
    "# Machine Learning\n",
    "from sklearn.preprocessing import LabelEncoder\n",
    "from sklearn.linear_model import Lasso, Ridge, RidgeCV, ElasticNet\n",
    "import xgboost as xgb\n",
    "from sklearn.pipeline import make_pipeline\n",
    "from sklearn.preprocessing import RobustScaler\n",
    "from sklearn.model_selection import KFold, cross_val_score, train_test_split\n",
    "from sklearn.metrics import mean_squared_error\n",
    "from sklearn.model_selection import GridSearchCV\n",
    "from sklearn.linear_model import LinearRegression"
   ]
  },
  {
   "cell_type": "code",
   "execution_count": 5,
   "metadata": {},
   "outputs": [],
   "source": [
    "# Handling the Warnings\n",
    "import sys\n",
    "import warnings\n",
    "\n",
    "if not sys.warnoptions:\n",
    "    warnings.simplefilter(\"ignore\")"
   ]
  },
  {
   "cell_type": "markdown",
   "metadata": {},
   "source": [
    "####  Reading the given file and storing required columns in a data frame"
   ]
  },
  {
   "cell_type": "code",
   "execution_count": 6,
   "metadata": {},
   "outputs": [],
   "source": [
    "df_train = pd.read_excel('Training sheet.xlsx')  # Reading the training data excel file in Panda data-frame.\n",
    "df_test = pd.read_excel('Scoring Sheet.xlsx')  # Reading the test data excel file in Panda data-frame."
   ]
  },
  {
   "cell_type": "code",
   "execution_count": 7,
   "metadata": {},
   "outputs": [
    {
     "name": "stdout",
     "output_type": "stream",
     "text": [
      "\n",
      "The train data size is: (1196, 15) \n"
     ]
    }
   ],
   "source": [
    "# Check the shape of the data to ensure all the columns have been incorporated from given excel file\n",
    "print(\"\\nThe train data size is: {} \".format(df_train.shape)) "
   ]
  },
  {
   "cell_type": "code",
   "execution_count": 8,
   "metadata": {},
   "outputs": [],
   "source": [
    "#Creating a copy of the dataframe for manupulation\n",
    "data_copy = df_train.copy()\n",
    "\n",
    "\n",
    "#Dropping columns not needed for the analysis\n",
    "data_copy.drop(['name', 'display_name','Category'], axis=1, inplace=True)"
   ]
  },
  {
   "cell_type": "code",
   "execution_count": 9,
   "metadata": {},
   "outputs": [],
   "source": [
    "#Dropping columns not needed for the analysis\n",
    "data_copy.drop(['board_rating_reason'], axis=1, inplace=True)"
   ]
  },
  {
   "cell_type": "markdown",
   "metadata": {},
   "source": [
    "##### Even though board_rating_reason has been dropped but this column can be used separately to carry out NLP analysis\n",
    "##### Eg. Topic Modelling can be used here to discover the abstract “topics” that occur in a collection of documents\n",
    "##### Latent Dirichlet Allocation (LDA) is an example of topic model and is used to classify text in a document to a particular topic"
   ]
  },
  {
   "cell_type": "code",
   "execution_count": 10,
   "metadata": {},
   "outputs": [
    {
     "name": "stdout",
     "output_type": "stream",
     "text": [
      "\n",
      "The train data size is: (1196, 11) \n"
     ]
    }
   ],
   "source": [
    "# Check the shape of the data to ensure all the columns have been incorporated after necessary calculations\n",
    "print(\"\\nThe train data size is: {} \".format(data_copy.shape)) "
   ]
  },
  {
   "cell_type": "code",
   "execution_count": 11,
   "metadata": {},
   "outputs": [],
   "source": [
    "# Changing the type of production year to string\n",
    "data_copy.production_year = data_copy.production_year.apply(str)"
   ]
  },
  {
   "cell_type": "markdown",
   "metadata": {},
   "source": [
    "#### EDA"
   ]
  },
  {
   "cell_type": "code",
   "execution_count": 12,
   "metadata": {},
   "outputs": [
    {
     "name": "stdout",
     "output_type": "stream",
     "text": [
      "<class 'pandas.core.frame.DataFrame'>\n",
      "RangeIndex: 1196 entries, 0 to 1195\n",
      "Data columns (total 11 columns):\n",
      "id                                    1196 non-null int64\n",
      "production_year                       1196 non-null object\n",
      "movie_sequel                          1196 non-null int64\n",
      "creative_type                         1196 non-null object\n",
      "source                                1196 non-null object\n",
      "production_method                     1196 non-null object\n",
      "genre                                 1196 non-null object\n",
      "language                              1196 non-null object\n",
      "movie_board_rating_display_name       1196 non-null object\n",
      "movie_release_pattern_display_name    1196 non-null object\n",
      "total                                 1196 non-null int64\n",
      "dtypes: int64(3), object(8)\n",
      "memory usage: 102.9+ KB\n"
     ]
    }
   ],
   "source": [
    "# Inspecting the dataset\n",
    "data_copy.info()"
   ]
  },
  {
   "cell_type": "code",
   "execution_count": 13,
   "metadata": {},
   "outputs": [
    {
     "data": {
      "image/png": "[encoded data removed]",
      "text/plain": [
       "<Figure size 936x432 with 1 Axes>"
      ]
     },
     "metadata": {},
     "output_type": "display_data"
    }
   ],
   "source": [
    "# Plotting a grapg betwwen the count of movies at production year level\n",
    "plt.figure(figsize=(13,6))\n",
    "descending_order = data_copy['production_year'].value_counts().sort_values(ascending=False).index\n",
    "ax = sns.countplot(x=\"production_year\", data=data_copy, palette=\"Set1\",saturation = 0.5, order=descending_order)\n",
    "plt.xticks(rotation=45)\n",
    "plt.show()"
   ]
  },
  {
   "cell_type": "markdown",
   "metadata": {},
   "source": [
    "###### Insight : Maximum movies, in fiven dataset, were prodouced in the year 2010 followed by 2009"
   ]
  },
  {
   "cell_type": "code",
   "execution_count": 14,
   "metadata": {},
   "outputs": [
    {
     "data": {
      "image/png": "[encoded data removed]",
      "text/plain": [
       "<Figure size 1080x432 with 1 Axes>"
      ]
     },
     "metadata": {},
     "output_type": "display_data"
    }
   ],
   "source": [
    "# Plotting a grapg betwwen the count of movies at release pattern level\n",
    "plt.figure(figsize=(15,6))\n",
    "descending_order = data_copy['movie_release_pattern_display_name'].value_counts().sort_values(ascending=False).index\n",
    "ax = sns.countplot(x=\"movie_release_pattern_display_name\", data=data_copy, palette=\"Set1\",saturation = 0.5, order=descending_order)\n",
    "plt.xticks(rotation=45)\n",
    "plt.show()"
   ]
  },
  {
   "cell_type": "markdown",
   "metadata": {},
   "source": [
    "###### Majority of the movies were released as WIde followed by Limited"
   ]
  },
  {
   "cell_type": "code",
   "execution_count": 15,
   "metadata": {},
   "outputs": [
    {
     "data": {
      "image/png": "[encoded data removed]",
      "text/plain": [
       "<Figure size 936x432 with 1 Axes>"
      ]
     },
     "metadata": {},
     "output_type": "display_data"
    }
   ],
   "source": [
    "# Plotting a grapg betwwen the count of movies at production method level\n",
    "plt.figure(figsize=(13,6))\n",
    "descending_order = data_copy['production_method'].value_counts().sort_values(ascending=False).index\n",
    "ax = sns.countplot(x=\"production_method\", data=data_copy, palette=\"Set1\",saturation = 0.5, order=descending_order)\n",
    "plt.xticks(rotation=45)\n",
    "plt.show()"
   ]
  },
  {
   "cell_type": "markdown",
   "metadata": {},
   "source": [
    "###### Majority of the movies were of type Live Action"
   ]
  },
  {
   "cell_type": "code",
   "execution_count": 16,
   "metadata": {},
   "outputs": [
    {
     "data": {
      "image/png": "[encoded data removed]",
      "text/plain": [
       "<Figure size 936x432 with 1 Axes>"
      ]
     },
     "metadata": {},
     "output_type": "display_data"
    }
   ],
   "source": [
    "# Plotting a grapg betwwen the count of movies at language level\n",
    "plt.figure(figsize=(13,6))\n",
    "descending_order = data_copy['language'].value_counts().sort_values(ascending=False).index\n",
    "ax = sns.countplot(x=\"language\", data=data_copy, palette=\"Set1\",saturation = 0.5, order=descending_order)\n",
    "plt.xticks(rotation=45)\n",
    "plt.show()"
   ]
  },
  {
   "cell_type": "markdown",
   "metadata": {},
   "source": [
    "### In the following section, based on the results of EDA binning of categorical data was done \n",
    "### Namely - Language, production_method, movie release pattern"
   ]
  },
  {
   "cell_type": "code",
   "execution_count": 17,
   "metadata": {},
   "outputs": [],
   "source": [
    "# User defined function to bin language\n",
    "def label_language (row):\n",
    "    if row['language'] == 'English' :\n",
    "        return 'English'\n",
    "    return 'Other'"
   ]
  },
  {
   "cell_type": "code",
   "execution_count": 18,
   "metadata": {},
   "outputs": [],
   "source": [
    "# User defined function to bin production_method\n",
    "def label_prod_method (row):\n",
    "    if row['production_method'] == 'Live Action' :\n",
    "        return 'Live Action'\n",
    "    if (row['production_method'] == 'Animation/Live Action' or row['production_method'] == 'Digital Animation') :\n",
    "        return 'Animation'\n",
    "    return 'Other'"
   ]
  },
  {
   "cell_type": "code",
   "execution_count": 19,
   "metadata": {},
   "outputs": [],
   "source": [
    "# User defined function to bin movie_release_pattern_display_name\n",
    "def label_release_pattern_display (row):\n",
    "    if row['movie_release_pattern_display_name'] == 'Wide' :\n",
    "        return 'Wide'\n",
    "    if row['movie_release_pattern_display_name'] == 'Limited' :\n",
    "        return 'Limited'\n",
    "    return 'Other'"
   ]
  },
  {
   "cell_type": "code",
   "execution_count": 20,
   "metadata": {},
   "outputs": [],
   "source": [
    "\n",
    "\n",
    "data_copy['lang'] = data_copy.apply (lambda row: label_language(row), axis=1)\n",
    "data_copy['prod_method'] = data_copy.apply (lambda row: label_prod_method(row), axis=1)\n",
    "data_copy['release_pattern_display'] = data_copy.apply (lambda row: label_release_pattern_display(row), axis=1)"
   ]
  },
  {
   "cell_type": "markdown",
   "metadata": {},
   "source": [
    "#### Graphs to show the distribution after binning of few columns"
   ]
  },
  {
   "cell_type": "code",
   "execution_count": 21,
   "metadata": {},
   "outputs": [
    {
     "data": {
      "image/png": "[encoded data removed]",
      "text/plain": [
       "<Figure size 576x288 with 1 Axes>"
      ]
     },
     "metadata": {},
     "output_type": "display_data"
    }
   ],
   "source": [
    "plt.figure(figsize=(8,4))\n",
    "descending_order = data_copy['lang'].value_counts().sort_values(ascending=False).index\n",
    "ax = sns.countplot(x=\"lang\", data=data_copy, palette=\"Set1\",saturation = 0.5, order=descending_order)\n",
    "plt.xticks(rotation=45)\n",
    "plt.show()"
   ]
  },
  {
   "cell_type": "code",
   "execution_count": 22,
   "metadata": {},
   "outputs": [
    {
     "data": {
      "image/png": "[encoded data removed]",
      "text/plain": [
       "<Figure size 576x288 with 1 Axes>"
      ]
     },
     "metadata": {},
     "output_type": "display_data"
    }
   ],
   "source": [
    "plt.figure(figsize=(8,4))\n",
    "descending_order = data_copy['prod_method'].value_counts().sort_values(ascending=False).index\n",
    "ax = sns.countplot(x=\"prod_method\", data=data_copy, palette=\"Set1\",saturation = 0.5, order=descending_order)\n",
    "plt.xticks(rotation=45)\n",
    "plt.show()"
   ]
  },
  {
   "cell_type": "code",
   "execution_count": 23,
   "metadata": {},
   "outputs": [
    {
     "data": {
      "image/png": "[encoded data removed]",
      "text/plain": [
       "<Figure size 576x288 with 1 Axes>"
      ]
     },
     "metadata": {},
     "output_type": "display_data"
    }
   ],
   "source": [
    "plt.figure(figsize=(8,4))\n",
    "descending_order = data_copy['release_pattern_display'].value_counts().sort_values(ascending=False).index\n",
    "ax = sns.countplot(x=\"release_pattern_display\", data=data_copy, palette=\"Set1\",saturation = 0.5, order=descending_order)\n",
    "plt.xticks(rotation=45)\n",
    "plt.show()"
   ]
  },
  {
   "cell_type": "code",
   "execution_count": 24,
   "metadata": {},
   "outputs": [],
   "source": [
    "# Dropping the old columns and keepng the new binned values\n",
    "\n",
    "data_copy.drop(['language'], axis=1, inplace=True)\n",
    "data_copy.drop(['production_method'], axis=1, inplace=True)\n",
    "data_copy.drop(['movie_release_pattern_display_name'], axis=1, inplace=True)"
   ]
  },
  {
   "cell_type": "markdown",
   "metadata": {},
   "source": [
    "### Insight/ Next steps : Here to make the data statistically profound an ANOVA test could have been run on columns to undertstand the variability within classes. \n",
    "\n",
    "### However because of time contraints this was noted as a next step to improve the model prediction"
   ]
  },
  {
   "cell_type": "code",
   "execution_count": 25,
   "metadata": {},
   "outputs": [
    {
     "data": {
      "text/html": [
       "<div>\n",
       "<style scoped>\n",
       "    .dataframe tbody tr th:only-of-type {\n",
       "        vertical-align: middle;\n",
       "    }\n",
       "\n",
       "    .dataframe tbody tr th {\n",
       "        vertical-align: top;\n",
       "    }\n",
       "\n",
       "    .dataframe thead th {\n",
       "        text-align: right;\n",
       "    }\n",
       "</style>\n",
       "<table border=\"1\" class=\"dataframe\">\n",
       "  <thead>\n",
       "    <tr style=\"text-align: right;\">\n",
       "      <th></th>\n",
       "      <th>id</th>\n",
       "      <th>production_year</th>\n",
       "      <th>movie_sequel</th>\n",
       "      <th>creative_type</th>\n",
       "      <th>source</th>\n",
       "      <th>genre</th>\n",
       "      <th>movie_board_rating_display_name</th>\n",
       "      <th>total</th>\n",
       "      <th>lang</th>\n",
       "      <th>prod_method</th>\n",
       "      <th>release_pattern_display</th>\n",
       "    </tr>\n",
       "  </thead>\n",
       "  <tbody>\n",
       "    <tr>\n",
       "      <th>0</th>\n",
       "      <td>7950115</td>\n",
       "      <td>2009</td>\n",
       "      <td>0</td>\n",
       "      <td>Science Fiction</td>\n",
       "      <td>Original Screenplay</td>\n",
       "      <td>Action</td>\n",
       "      <td>PG-13</td>\n",
       "      <td>2784</td>\n",
       "      <td>English</td>\n",
       "      <td>Animation</td>\n",
       "      <td>Wide</td>\n",
       "    </tr>\n",
       "    <tr>\n",
       "      <th>1</th>\n",
       "      <td>50950115</td>\n",
       "      <td>2011</td>\n",
       "      <td>1</td>\n",
       "      <td>Fantasy</td>\n",
       "      <td>Based on Fiction Book/Short Story</td>\n",
       "      <td>Adventure</td>\n",
       "      <td>PG-13</td>\n",
       "      <td>1328</td>\n",
       "      <td>English</td>\n",
       "      <td>Animation</td>\n",
       "      <td>Wide</td>\n",
       "    </tr>\n",
       "    <tr>\n",
       "      <th>2</th>\n",
       "      <td>119870115</td>\n",
       "      <td>2011</td>\n",
       "      <td>1</td>\n",
       "      <td>Science Fiction</td>\n",
       "      <td>Based on TV</td>\n",
       "      <td>Action</td>\n",
       "      <td>PG-13</td>\n",
       "      <td>1124</td>\n",
       "      <td>English</td>\n",
       "      <td>Animation</td>\n",
       "      <td>Wide</td>\n",
       "    </tr>\n",
       "    <tr>\n",
       "      <th>3</th>\n",
       "      <td>119590115</td>\n",
       "      <td>2010</td>\n",
       "      <td>1</td>\n",
       "      <td>Kids Fiction</td>\n",
       "      <td>Original Screenplay</td>\n",
       "      <td>Adventure</td>\n",
       "      <td>G</td>\n",
       "      <td>1064</td>\n",
       "      <td>English</td>\n",
       "      <td>Animation</td>\n",
       "      <td>Wide</td>\n",
       "    </tr>\n",
       "    <tr>\n",
       "      <th>4</th>\n",
       "      <td>91700115</td>\n",
       "      <td>2011</td>\n",
       "      <td>1</td>\n",
       "      <td>Fantasy</td>\n",
       "      <td>Based on Theme Park Ride</td>\n",
       "      <td>Adventure</td>\n",
       "      <td>PG-13</td>\n",
       "      <td>1044</td>\n",
       "      <td>English</td>\n",
       "      <td>Live Action</td>\n",
       "      <td>Wide</td>\n",
       "    </tr>\n",
       "  </tbody>\n",
       "</table>\n",
       "</div>"
      ],
      "text/plain": [
       "          id production_year  movie_sequel    creative_type  \\\n",
       "0    7950115            2009             0  Science Fiction   \n",
       "1   50950115            2011             1          Fantasy   \n",
       "2  119870115            2011             1  Science Fiction   \n",
       "3  119590115            2010             1     Kids Fiction   \n",
       "4   91700115            2011             1          Fantasy   \n",
       "\n",
       "                              source      genre  \\\n",
       "0                Original Screenplay     Action   \n",
       "1  Based on Fiction Book/Short Story  Adventure   \n",
       "2                        Based on TV     Action   \n",
       "3                Original Screenplay  Adventure   \n",
       "4           Based on Theme Park Ride  Adventure   \n",
       "\n",
       "  movie_board_rating_display_name  total     lang  prod_method  \\\n",
       "0                           PG-13   2784  English    Animation   \n",
       "1                           PG-13   1328  English    Animation   \n",
       "2                           PG-13   1124  English    Animation   \n",
       "3                               G   1064  English    Animation   \n",
       "4                           PG-13   1044  English  Live Action   \n",
       "\n",
       "  release_pattern_display  \n",
       "0                    Wide  \n",
       "1                    Wide  \n",
       "2                    Wide  \n",
       "3                    Wide  \n",
       "4                    Wide  "
      ]
     },
     "execution_count": 25,
     "metadata": {},
     "output_type": "execute_result"
    }
   ],
   "source": [
    "# formatted data snapshot\n",
    "\n",
    "data_copy.head()"
   ]
  },
  {
   "cell_type": "code",
   "execution_count": 26,
   "metadata": {},
   "outputs": [],
   "source": [
    "# Creating a copy of data for further processing\n",
    "\n",
    "train = data_copy.copy()"
   ]
  },
  {
   "cell_type": "markdown",
   "metadata": {},
   "source": [
    "## Data Processing"
   ]
  },
  {
   "cell_type": "markdown",
   "metadata": {},
   "source": [
    "###### Deep diving into the dependent Variable - Target\n",
    "###### Interest is to detect any skew which would become problematic during the modelling phase"
   ]
  },
  {
   "cell_type": "code",
   "execution_count": 27,
   "metadata": {},
   "outputs": [
    {
     "name": "stdout",
     "output_type": "stream",
     "text": [
      "\n",
      " mu = 104.70 and sigma = 181.85\n",
      "\n"
     ]
    },
    {
     "data": {
      "image/png": "[encoded data removed]",
      "text/plain": [
       "<Figure size 432x288 with 1 Axes>"
      ]
     },
     "metadata": {},
     "output_type": "display_data"
    }
   ],
   "source": [
    "(mu, sigma) = norm.fit(train['total'])\n",
    "\n",
    "# 1. Plot Sale Price\n",
    "sns.distplot(train['total'] , fit=norm);\n",
    "plt.ylabel('Frequency')\n",
    "plt.title('total distribution')\n",
    "plt.legend(['Normal dist. ($\\mu=$ {:.2f} and $\\sigma=$ {:.2f} )'.format(mu, sigma)],\n",
    "            loc='best')\n",
    "\n",
    "# Get the fitted parameters used by the function\n",
    "print( '\\n mu = {:.2f} and sigma = {:.2f}\\n'.format(mu, sigma))"
   ]
  },
  {
   "cell_type": "code",
   "execution_count": 28,
   "metadata": {},
   "outputs": [
    {
     "data": {
      "image/png": "[encoded data removed]",
      "text/plain": [
       "<Figure size 432x288 with 1 Axes>"
      ]
     },
     "metadata": {},
     "output_type": "display_data"
    }
   ],
   "source": [
    "# 2. Plot total as a QQPlot\n",
    "fig = plt.figure()\n",
    "res = stats.probplot(train['total'], plot=plt)\n",
    "plt.show()"
   ]
  },
  {
   "cell_type": "markdown",
   "metadata": {},
   "source": [
    "###### Insight : We can see here the dependent Variable is right skewed. A log transformation should help bring it back to normality. The code below will complete this"
   ]
  },
  {
   "cell_type": "code",
   "execution_count": 29,
   "metadata": {},
   "outputs": [],
   "source": [
    "# Applying a log(1+x) transformation to total\n",
    "train[\"total\"] = np.log1p(train[\"total\"])"
   ]
  },
  {
   "cell_type": "code",
   "execution_count": 30,
   "metadata": {},
   "outputs": [
    {
     "name": "stdout",
     "output_type": "stream",
     "text": [
      "\n",
      " mu = 3.64 and sigma = 1.52\n",
      "\n"
     ]
    },
    {
     "data": {
      "image/png": "[encoded data removed]",
      "text/plain": [
       "<Figure size 432x288 with 1 Axes>"
      ]
     },
     "metadata": {},
     "output_type": "display_data"
    }
   ],
   "source": [
    "# 1. Plot Sale Price\n",
    "sns.distplot(train['total'] , fit=norm);\n",
    "plt.ylabel('Frequency')\n",
    "plt.title('total distribution')\n",
    "plt.legend(['Normal dist. ($\\mu=$ {:.2f} and $\\sigma=$ {:.2f} )'.format(mu, sigma)],\n",
    "            loc='best')\n",
    "\n",
    "# Get the fitted parameters used by the function\n",
    "(mu, sigma) = norm.fit(train['total'])\n",
    "print( '\\n mu = {:.2f} and sigma = {:.2f}\\n'.format(mu, sigma))"
   ]
  },
  {
   "cell_type": "code",
   "execution_count": 31,
   "metadata": {},
   "outputs": [
    {
     "data": {
      "image/png": "[encoded data removed]",
      "text/plain": [
       "<Figure size 432x288 with 1 Axes>"
      ]
     },
     "metadata": {},
     "output_type": "display_data"
    }
   ],
   "source": [
    "# 2. Plot SalePrice as a QQPlot\n",
    "fig = plt.figure()\n",
    "res = stats.probplot(train['total'], plot=plt)\n",
    "plt.show()"
   ]
  },
  {
   "cell_type": "markdown",
   "metadata": {},
   "source": [
    "###### Insight :The target variable now looks far more amenable for modelling. Moving on now to some feature engineering"
   ]
  },
  {
   "cell_type": "code",
   "execution_count": 32,
   "metadata": {},
   "outputs": [
    {
     "name": "stdout",
     "output_type": "stream",
     "text": [
      "all_data size is: (1196, 10)\n"
     ]
    }
   ],
   "source": [
    "# Saving train & test shapes\n",
    "ntrain = train.shape[0]\n",
    "\n",
    "# New all encompassing dataset\n",
    "all_data = train.copy()\n",
    "\n",
    "#Creating ID variable\n",
    "ID =  train.loc[:, train.columns == 'id']\n",
    "\n",
    "# Dropping the target\n",
    "all_data.drop(['total'], axis=1, inplace=True)\n",
    "\n",
    "# Printing all_data shape\n",
    "print(\"all_data size is: {}\".format(all_data.shape))"
   ]
  },
  {
   "cell_type": "markdown",
   "metadata": {},
   "source": [
    "##### Checking the data set for missing values\n",
    "##### We'll need to consider these during data processing"
   ]
  },
  {
   "cell_type": "code",
   "execution_count": 33,
   "metadata": {},
   "outputs": [
    {
     "data": {
      "text/html": [
       "<div>\n",
       "<style scoped>\n",
       "    .dataframe tbody tr th:only-of-type {\n",
       "        vertical-align: middle;\n",
       "    }\n",
       "\n",
       "    .dataframe tbody tr th {\n",
       "        vertical-align: top;\n",
       "    }\n",
       "\n",
       "    .dataframe thead th {\n",
       "        text-align: right;\n",
       "    }\n",
       "</style>\n",
       "<table border=\"1\" class=\"dataframe\">\n",
       "  <thead>\n",
       "    <tr style=\"text-align: right;\">\n",
       "      <th></th>\n",
       "      <th>Missing Percentage</th>\n",
       "    </tr>\n",
       "  </thead>\n",
       "  <tbody>\n",
       "  </tbody>\n",
       "</table>\n",
       "</div>"
      ],
      "text/plain": [
       "Empty DataFrame\n",
       "Columns: [Missing Percentage]\n",
       "Index: []"
      ]
     },
     "execution_count": 33,
     "metadata": {},
     "output_type": "execute_result"
    }
   ],
   "source": [
    "# Getting a missing % count\n",
    "all_data_missing = (all_data.isnull().sum() / len(all_data)) * 100\n",
    "all_data_missing = all_data_missing.drop(all_data_missing[all_data_missing == 0].index).sort_values(ascending=False)\n",
    "missing_data = pd.DataFrame({'Missing Percentage':all_data_missing})\n",
    "missing_data.head(5)"
   ]
  },
  {
   "cell_type": "markdown",
   "metadata": {},
   "source": [
    "###### Our analysis of data reveals that the data frame does not have any missing values.\n",
    "###### Hence we do not need to do any data imputations in this case"
   ]
  },
  {
   "cell_type": "code",
   "execution_count": 34,
   "metadata": {},
   "outputs": [
    {
     "data": {
      "image/png": "[encoded data removed]",
      "text/plain": [
       "<Figure size 1008x576 with 2 Axes>"
      ]
     },
     "metadata": {},
     "output_type": "display_data"
    }
   ],
   "source": [
    "# Initiate correlation matrix\n",
    "corr = train.corr()\n",
    "# Set-up mask\n",
    "mask = np.zeros_like(corr, dtype=np.bool)\n",
    "mask[np.triu_indices_from(mask)] = True\n",
    "# Set-up figure\n",
    "plt.figure(figsize=(14, 8))\n",
    "# Title\n",
    "plt.title('Overall Correlation', fontsize=18)\n",
    "# Correlation matrix\n",
    "sns.heatmap(corr, mask=mask, annot=False,cmap='RdYlGn', linewidths=0.2, annot_kws={'size':20})\n",
    "plt.show()"
   ]
  },
  {
   "cell_type": "markdown",
   "metadata": {},
   "source": [
    "###### As the dataset had only one numerical independent variable. We plotted a corelation matrix to get an understanding of the \n",
    "###### relationship between dependent varable and independent variable(movie_sequel)"
   ]
  },
  {
   "cell_type": "markdown",
   "metadata": {},
   "source": [
    "##### Class Imbalance\n",
    "\n",
    "###### Testinf for any significance class imbalance. Any variable that is represented by a single class by greater than 97% will be removed from the datasets.\n",
    "###### I also explored the same strategy at the 95% level, but found that model performance decreased. Thus, I will stick at the 97% level."
   ]
  },
  {
   "cell_type": "code",
   "execution_count": 35,
   "metadata": {},
   "outputs": [
    {
     "data": {
      "text/plain": [
       "[]"
      ]
     },
     "execution_count": 35,
     "metadata": {},
     "output_type": "execute_result"
    }
   ],
   "source": [
    "# Identifying features where a class is over 97% represented\n",
    "low_var_cat = [col for col in all_data.select_dtypes(exclude=['number']) if 1 - sum(all_data[col] == mode(all_data[col]))/len(all_data) < 0.03]\n",
    "low_var_cat"
   ]
  },
  {
   "cell_type": "markdown",
   "metadata": {},
   "source": [
    "### Get dummies\n",
    "###### Creating dummy variables ready for model building"
   ]
  },
  {
   "cell_type": "code",
   "execution_count": 36,
   "metadata": {},
   "outputs": [
    {
     "data": {
      "text/plain": [
       "(1196, 54)"
      ]
     },
     "execution_count": 36,
     "metadata": {},
     "output_type": "execute_result"
    }
   ],
   "source": [
    "# Get dummies\n",
    "all_data = all_data.loc[:, all_data.columns != 'id']\n",
    "\n",
    "#Production year was dropped from the data set as it did not contribute to model explanation\n",
    "all_data.drop(['production_year'], axis=1, inplace=True)\n",
    "\n",
    "all_data = pd.get_dummies(all_data)\n",
    "\n",
    "all_data = pd.concat([all_data.reset_index(drop=True), ID], axis=1)\n",
    "\n",
    "all_data.shape"
   ]
  },
  {
   "cell_type": "markdown",
   "metadata": {},
   "source": [
    "# Machine Learning"
   ]
  },
  {
   "cell_type": "markdown",
   "metadata": {},
   "source": [
    "#### Creating the test set and train set on the training data to undertsand the accuracy of trained model"
   ]
  },
  {
   "cell_type": "code",
   "execution_count": 37,
   "metadata": {},
   "outputs": [],
   "source": [
    "Xtrain, Xtest, y_train, y_test = train_test_split(all_data, train['total'], test_size = 1/4, random_state = 0)"
   ]
  },
  {
   "cell_type": "code",
   "execution_count": 38,
   "metadata": {},
   "outputs": [],
   "source": [
    "X_train = Xtrain.copy()\n",
    "X_test = Xtest.copy()\n",
    "\n",
    "X_train.drop(['id'], axis=1, inplace=True)\n",
    "X_test.drop(['id'], axis=1, inplace=True)"
   ]
  },
  {
   "cell_type": "markdown",
   "metadata": {},
   "source": [
    "### Before modelling defining a function that returns the cross-validation 'rmse' error, following 10-folds. This will ensure that all rmse scores produced have been smoothed out across the entire dataset and are not a result of any irregularities, which otherwise would provide a misleading representation of model performance"
   ]
  },
  {
   "cell_type": "code",
   "execution_count": 39,
   "metadata": {},
   "outputs": [],
   "source": [
    "# Defining two rmse_cv functions\n",
    "def rmse_cv(model):\n",
    "    rmse = np.sqrt(-cross_val_score(model, X_train, y_train, scoring=\"neg_mean_squared_error\", cv = 10))\n",
    "    return(rmse)"
   ]
  },
  {
   "cell_type": "markdown",
   "metadata": {},
   "source": [
    "## Generalized linear models\n",
    "### Focus is on 'regularised' regression models. Regularisation is a form of regression that shrinks (or 'regularises') the coefficient estimates towards zero. In other words, this technique discourages learning a more complex or flexible model, so as to avoid the risk of overfitting.\n",
    "\n",
    "### There are different types of regularised regressions - considerations has been given to 3 of them"
   ]
  },
  {
   "cell_type": "markdown",
   "metadata": {},
   "source": [
    "## Ridge Regression (L2 Regularisation)"
   ]
  },
  {
   "cell_type": "markdown",
   "metadata": {},
   "source": [
    "##### Ridge regression shrinks the regression coefficients, so that variables, with minor contribution to the outcome, have their coefficients close to zero.\n",
    "\n",
    "##### The shrinkage of the coefficients is achieved by penalizing the regression model with a penalty term called L2-norm, which is the sum of the squared coefficients.\n",
    "\n",
    "##### For regularised regression models, the key tuning parameter is alpha - a regularization parameter that measures how flexible our model is. The higher the regularization the less prone our model will be to overfit. However it will also lose flexibility and might not capture all of the signal in the data. Thus I have defined multiple alpha's, iterate over them and plot the result so we can easily see the optimal alpha level."
   ]
  },
  {
   "cell_type": "code",
   "execution_count": 40,
   "metadata": {},
   "outputs": [],
   "source": [
    "# Setting up list of alpha's\n",
    "alphas = [0.05, 0.1, 0.3, 1, 3, 5, 10, 15, 30]\n",
    "# Iterate over alpha's\n",
    "cv_ridge = [rmse_cv(Ridge(alpha = alpha)).mean() for alpha in alphas]"
   ]
  },
  {
   "cell_type": "code",
   "execution_count": 41,
   "metadata": {},
   "outputs": [
    {
     "data": {
      "text/plain": [
       "Text(0,0.5,'Rmse')"
      ]
     },
     "execution_count": 41,
     "metadata": {},
     "output_type": "execute_result"
    },
    {
     "data": {
      "image/png": "[encoded data removed]",
      "text/plain": [
       "<Figure size 432x288 with 1 Axes>"
      ]
     },
     "metadata": {},
     "output_type": "display_data"
    }
   ],
   "source": [
    "# Plot findings\n",
    "cv_ridge = pd.Series(cv_ridge, index = alphas)\n",
    "cv_ridge.plot(title = \"Validation\")\n",
    "plt.xlabel(\"Alpha\")\n",
    "plt.ylabel(\"Rmse\")"
   ]
  },
  {
   "cell_type": "code",
   "execution_count": 42,
   "metadata": {},
   "outputs": [],
   "source": [
    "# 5 looks like the optimal alpha level, so let's fit the Ridge model with this value\n",
    "model_ridge = Ridge(alpha = 10)"
   ]
  },
  {
   "cell_type": "markdown",
   "metadata": {},
   "source": [
    "## Lasso Regression (L1 regularisation)"
   ]
  },
  {
   "cell_type": "markdown",
   "metadata": {},
   "source": [
    "##### Lasso stands for Least Absolute Shrinkage and Selection Operator. It shrinks the regression coefficients toward zero by penalizing the regression model with a penalty term called L1-norm, which is the sum of the absolute coefficients.\n",
    "\n",
    "##### In the case of lasso regression, the penalty has the effect of forcing some of the coefficient estimates, with a minor contribution to the model, to be exactly equal to zero. This means that, lasso can be also seen as an alternative to the subset selection methods for performing variable selection in order to reduce the complexity of the model."
   ]
  },
  {
   "cell_type": "code",
   "execution_count": 43,
   "metadata": {},
   "outputs": [
    {
     "data": {
      "text/plain": [
       "Text(0,0.5,'Rmse')"
      ]
     },
     "execution_count": 43,
     "metadata": {},
     "output_type": "execute_result"
    },
    {
     "data": {
      "image/png": "[encoded data removed]",
      "text/plain": [
       "<Figure size 432x288 with 1 Axes>"
      ]
     },
     "metadata": {},
     "output_type": "display_data"
    }
   ],
   "source": [
    "# Setting up list of alpha's\n",
    "alphas = [0.01, 0.005, 0.001, 0.0005, 0.0001]\n",
    "\n",
    "# Iterate over alpha's\n",
    "cv_lasso = [rmse_cv(Lasso(alpha = alpha)).mean() for alpha in alphas]\n",
    "\n",
    "# Plot findings\n",
    "cv_lasso = pd.Series(cv_lasso, index = alphas)\n",
    "cv_lasso.plot(title = \"Validation\")\n",
    "plt.xlabel(\"Alpha\")\n",
    "plt.ylabel(\"Rmse\")"
   ]
  },
  {
   "cell_type": "code",
   "execution_count": 44,
   "metadata": {},
   "outputs": [],
   "source": [
    "# Initiating Lasso model\n",
    "model_lasso = make_pipeline(RobustScaler(), Lasso(alpha = 0.001))"
   ]
  },
  {
   "cell_type": "markdown",
   "metadata": {},
   "source": [
    "## ElasticNet Regression"
   ]
  },
  {
   "cell_type": "markdown",
   "metadata": {},
   "source": [
    "##### Elastic Net produces a regression model that is penalized with both the L1-norm and L2-norm. The consequence of this is to effectively shrink coefficients (like in ridge regression) and to set some coefficients to zero (as in LASSO)"
   ]
  },
  {
   "cell_type": "code",
   "execution_count": 45,
   "metadata": {},
   "outputs": [
    {
     "data": {
      "text/plain": [
       "Text(0,0.5,'Rmse')"
      ]
     },
     "execution_count": 45,
     "metadata": {},
     "output_type": "execute_result"
    },
    {
     "data": {
      "image/png": "[encoded data removed]",
      "text/plain": [
       "<Figure size 432x288 with 1 Axes>"
      ]
     },
     "metadata": {},
     "output_type": "display_data"
    }
   ],
   "source": [
    "# Setting up list of alpha's\n",
    "alphas = [0.01, 0.005, 0.001, 0.0005, 0.0001]\n",
    "\n",
    "# Iterate over alpha's\n",
    "cv_elastic = [rmse_cv(ElasticNet(alpha = alpha)).mean() for alpha in alphas]\n",
    "\n",
    "# Plot findings\n",
    "cv_elastic = pd.Series(cv_elastic, index = alphas)\n",
    "cv_elastic.plot(title = \"Validation\")\n",
    "plt.xlabel(\"Alpha\")\n",
    "plt.ylabel(\"Rmse\")"
   ]
  },
  {
   "cell_type": "code",
   "execution_count": 46,
   "metadata": {},
   "outputs": [],
   "source": [
    "# Initiating ElasticNet model\n",
    "model_elastic = make_pipeline(RobustScaler(), ElasticNet(alpha = 0.005))"
   ]
  },
  {
   "cell_type": "markdown",
   "metadata": {},
   "source": [
    "## Decision Trees - XG boost"
   ]
  },
  {
   "cell_type": "code",
   "execution_count": 47,
   "metadata": {},
   "outputs": [],
   "source": [
    "# Initiating XGBRegressor\n",
    "model_xgb = xgb.XGBRegressor(colsample_bytree=0.2,\n",
    "                             learning_rate=0.06,\n",
    "                             max_depth=3,\n",
    "                             n_estimators=1150)"
   ]
  },
  {
   "cell_type": "markdown",
   "metadata": {},
   "source": [
    "## Fit all models"
   ]
  },
  {
   "cell_type": "code",
   "execution_count": 48,
   "metadata": {},
   "outputs": [],
   "source": [
    "# Fitting all models with rmse_cv function\n",
    "cv_ridge = rmse_cv(model_ridge).mean()\n",
    "cv_lasso = rmse_cv(model_lasso).mean()\n",
    "cv_elastic = rmse_cv(model_elastic).mean()\n",
    "cv_xgb = rmse_cv(model_xgb).mean()"
   ]
  },
  {
   "cell_type": "markdown",
   "metadata": {},
   "source": [
    "##### Rank model performance"
   ]
  },
  {
   "cell_type": "code",
   "execution_count": 49,
   "metadata": {},
   "outputs": [
    {
     "data": {
      "text/html": [
       "<div>\n",
       "<style scoped>\n",
       "    .dataframe tbody tr th:only-of-type {\n",
       "        vertical-align: middle;\n",
       "    }\n",
       "\n",
       "    .dataframe tbody tr th {\n",
       "        vertical-align: top;\n",
       "    }\n",
       "\n",
       "    .dataframe thead th {\n",
       "        text-align: right;\n",
       "    }\n",
       "</style>\n",
       "<table border=\"1\" class=\"dataframe\">\n",
       "  <thead>\n",
       "    <tr style=\"text-align: right;\">\n",
       "      <th></th>\n",
       "      <th>Model</th>\n",
       "      <th>Score</th>\n",
       "    </tr>\n",
       "  </thead>\n",
       "  <tbody>\n",
       "    <tr>\n",
       "      <th>0</th>\n",
       "      <td>Ridge</td>\n",
       "      <td>1.151575</td>\n",
       "    </tr>\n",
       "    <tr>\n",
       "      <th>1</th>\n",
       "      <td>ElasticNet</td>\n",
       "      <td>1.154580</td>\n",
       "    </tr>\n",
       "    <tr>\n",
       "      <th>2</th>\n",
       "      <td>Lasso</td>\n",
       "      <td>1.154769</td>\n",
       "    </tr>\n",
       "    <tr>\n",
       "      <th>3</th>\n",
       "      <td>XGBoost Regressor</td>\n",
       "      <td>1.184224</td>\n",
       "    </tr>\n",
       "  </tbody>\n",
       "</table>\n",
       "</div>"
      ],
      "text/plain": [
       "               Model     Score\n",
       "0              Ridge  1.151575\n",
       "1         ElasticNet  1.154580\n",
       "2              Lasso  1.154769\n",
       "3  XGBoost Regressor  1.184224"
      ]
     },
     "execution_count": 49,
     "metadata": {},
     "output_type": "execute_result"
    }
   ],
   "source": [
    "# Creating a table of results, ranked highest to lowest\n",
    "results = pd.DataFrame({\n",
    "    'Model': ['Ridge',\n",
    "              'Lasso',\n",
    "              'ElasticNet',\n",
    "              'XGBoost Regressor',\n",
    "              ],\n",
    "    'Score': [cv_ridge,\n",
    "              cv_lasso,\n",
    "              cv_elastic,\n",
    "              cv_xgb\n",
    "              ]})\n",
    "\n",
    "# Build dataframe of values\n",
    "result_df = results.sort_values(by='Score', ascending=True).reset_index(drop=True)\n",
    "result_df.head(4)"
   ]
  },
  {
   "cell_type": "code",
   "execution_count": 50,
   "metadata": {},
   "outputs": [
    {
     "data": {
      "text/plain": [
       "Text(0.5,1,'RMSE')"
      ]
     },
     "execution_count": 50,
     "metadata": {},
     "output_type": "execute_result"
    },
    {
     "data": {
      "image/png": "[encoded data removed]",
      "text/plain": [
       "<Figure size 720x432 with 1 Axes>"
      ]
     },
     "metadata": {},
     "output_type": "display_data"
    }
   ],
   "source": [
    "# Plotting model performance\n",
    "f, ax = plt.subplots(figsize=(10, 6))\n",
    "plt.xticks(rotation='90')\n",
    "sns.barplot(x=result_df['Model'], y=result_df['Score'])\n",
    "plt.xlabel('Models', fontsize=15)\n",
    "plt.ylabel('Model performance', fontsize=15)\n",
    "plt.ylim(0.10, 1.500)\n",
    "plt.title('RMSE', fontsize=15)"
   ]
  },
  {
   "cell_type": "markdown",
   "metadata": {},
   "source": [
    "## Stacking algorithms"
   ]
  },
  {
   "cell_type": "code",
   "execution_count": 51,
   "metadata": {},
   "outputs": [],
   "source": [
    "# Fit and predict all models\n",
    "model_lasso.fit(X_train, y_train)\n",
    "lasso_pred = np.expm1(model_lasso.predict(X_test))\n",
    "\n",
    "model_elastic.fit(X_train, y_train)\n",
    "elastic_pred = np.expm1(model_elastic.predict(X_test))\n",
    "\n",
    "model_ridge.fit(X_train, y_train)\n",
    "ridge_pred = np.expm1(model_ridge.predict(X_test))\n",
    "\n",
    "model_xgb.fit(X_train, y_train)\n",
    "xgb_pred = np.expm1(model_xgb.predict(X_test))"
   ]
  },
  {
   "cell_type": "markdown",
   "metadata": {},
   "source": [
    "## Final predictions\n",
    "\n",
    "#### Created a stacked model by equally weighting every model "
   ]
  },
  {
   "cell_type": "code",
   "execution_count": 52,
   "metadata": {},
   "outputs": [],
   "source": [
    "# Create stacked model\n",
    "stacked = (lasso_pred + ridge_pred + xgb_pred + elastic_pred) / 4"
   ]
  },
  {
   "cell_type": "code",
   "execution_count": 53,
   "metadata": {},
   "outputs": [],
   "source": [
    "# Setting up competition submission\n",
    "sub = pd.DataFrame()\n",
    "sub['Id'] = Xtest['id']\n",
    "sub['total'] = stacked"
   ]
  },
  {
   "cell_type": "code",
   "execution_count": 54,
   "metadata": {},
   "outputs": [],
   "source": [
    "def label_race (row):\n",
    "    if row['total'] >= 200 :\n",
    "        return '9'\n",
    "    if row['total'] >= 150 and row['total'] < 200:\n",
    "        return '8'\n",
    "    if row['total'] >= 100 and row['total'] < 150:\n",
    "        return '7'\n",
    "    if row['total'] >= 65 and row['total'] < 100:\n",
    "        return '6'\n",
    "    if row['total'] >= 40 and row['total'] < 65:\n",
    "        return '5'\n",
    "    if row['total'] >= 20 and row['total'] < 40:\n",
    "        return '4'\n",
    "    if row['total'] >= 10 and row['total'] < 20:\n",
    "        return '3'\n",
    "    if row['total'] >= 1 and row['total'] < 10:\n",
    "        return '2'\n",
    "    return '1'"
   ]
  },
  {
   "cell_type": "code",
   "execution_count": 55,
   "metadata": {},
   "outputs": [],
   "source": [
    "sub['Category'] = sub.apply (lambda row: label_race(row), axis=1)"
   ]
  },
  {
   "cell_type": "code",
   "execution_count": 56,
   "metadata": {},
   "outputs": [],
   "source": [
    "sub.to_csv('movie_predictions_trainingvalidation.csv',index=False)"
   ]
  },
  {
   "cell_type": "markdown",
   "metadata": {},
   "source": [
    "# Using Scoring excel to predict 'Category' on test data"
   ]
  },
  {
   "cell_type": "code",
   "execution_count": 57,
   "metadata": {},
   "outputs": [],
   "source": [
    "# making a copy of the test data for further processing\n",
    "\n",
    "\n",
    "data_testcopy = df_test.copy()\n",
    "data_testcopy.drop(['name', 'display_name','production_budget','board_rating_reason'], axis=1, inplace=True)"
   ]
  },
  {
   "cell_type": "code",
   "execution_count": 58,
   "metadata": {},
   "outputs": [
    {
     "data": {
      "image/png": "[encoded data removed]",
      "text/plain": [
       "<Figure size 288x432 with 1 Axes>"
      ]
     },
     "metadata": {},
     "output_type": "display_data"
    }
   ],
   "source": [
    "# Plotting a grapg betwwen the count of movies at Production year level\n",
    "\n",
    "plt.figure(figsize=(4,6))\n",
    "descending_order = data_testcopy['production_year'].value_counts().sort_values(ascending=False).index\n",
    "ax = sns.countplot(x=\"production_year\", data=data_testcopy, palette=\"Set1\",saturation = 0.5, order=descending_order)\n",
    "plt.xticks(rotation=45)\n",
    "plt.show()"
   ]
  },
  {
   "cell_type": "markdown",
   "metadata": {},
   "source": [
    "#### Test data had only movies from 2012"
   ]
  },
  {
   "cell_type": "code",
   "execution_count": 59,
   "metadata": {},
   "outputs": [
    {
     "data": {
      "image/png": "[encoded data removed]",
      "text/plain": [
       "<Figure size 720x432 with 1 Axes>"
      ]
     },
     "metadata": {},
     "output_type": "display_data"
    }
   ],
   "source": [
    "#Plotting data for movie release pattern\n",
    "\n",
    "plt.figure(figsize=(10,6))\n",
    "descending_order = data_testcopy['movie_release_pattern_display_name'].value_counts().sort_values(ascending=False).index\n",
    "ax = sns.countplot(x=\"movie_release_pattern_display_name\", data=data_testcopy, palette=\"Set1\",saturation = 0.5, order=descending_order)\n",
    "plt.xticks(rotation=45)\n",
    "plt.show()"
   ]
  },
  {
   "cell_type": "code",
   "execution_count": 60,
   "metadata": {},
   "outputs": [
    {
     "data": {
      "image/png": "[encoded data removed]",
      "text/plain": [
       "<Figure size 720x432 with 1 Axes>"
      ]
     },
     "metadata": {},
     "output_type": "display_data"
    }
   ],
   "source": [
    "#Plotting data for count of movies and language\n",
    "\n",
    "plt.figure(figsize=(10,6))\n",
    "descending_order = data_testcopy['language'].value_counts().sort_values(ascending=False).index\n",
    "ax = sns.countplot(x=\"language\", data=data_testcopy, palette=\"Set1\",saturation = 0.5, order=descending_order)\n",
    "plt.xticks(rotation=45)\n",
    "plt.show()"
   ]
  },
  {
   "cell_type": "code",
   "execution_count": 61,
   "metadata": {},
   "outputs": [],
   "source": [
    "# Calling user defined functions to carry out binning\n",
    "\n",
    "data_testcopy['lang'] = data_testcopy.apply (lambda row: label_language(row), axis=1)\n",
    "data_testcopy['prod_method'] = data_testcopy.apply (lambda row: label_prod_method(row), axis=1)\n",
    "data_testcopy['release_pattern_display'] = data_testcopy.apply (lambda row: label_release_pattern_display(row), axis=1)"
   ]
  },
  {
   "cell_type": "markdown",
   "metadata": {},
   "source": [
    "### Plotting values after binning of data was done to achieve generality"
   ]
  },
  {
   "cell_type": "code",
   "execution_count": 62,
   "metadata": {},
   "outputs": [
    {
     "data": {
      "image/png": "[encoded data removed]",
      "text/plain": [
       "<Figure size 576x288 with 1 Axes>"
      ]
     },
     "metadata": {},
     "output_type": "display_data"
    }
   ],
   "source": [
    "# After binning plot of count of movies vs language\n",
    "plt.figure(figsize=(8,4))\n",
    "descending_order = data_testcopy['lang'].value_counts().sort_values(ascending=False).index\n",
    "ax = sns.countplot(x=\"lang\", data=data_testcopy, palette=\"Set1\",saturation = 0.5, order=descending_order)\n",
    "plt.xticks(rotation=45)\n",
    "plt.show()"
   ]
  },
  {
   "cell_type": "code",
   "execution_count": 63,
   "metadata": {},
   "outputs": [
    {
     "data": {
      "image/png": "[encoded data removed]",
      "text/plain": [
       "<Figure size 576x288 with 1 Axes>"
      ]
     },
     "metadata": {},
     "output_type": "display_data"
    }
   ],
   "source": [
    "# After binning plot of count of movies vs production Method\n",
    "\n",
    "plt.figure(figsize=(8,4))\n",
    "descending_order = data_testcopy['prod_method'].value_counts().sort_values(ascending=False).index\n",
    "ax = sns.countplot(x=\"prod_method\", data=data_testcopy, palette=\"Set1\",saturation = 0.5, order=descending_order)\n",
    "plt.xticks(rotation=45)\n",
    "plt.show()"
   ]
  },
  {
   "cell_type": "code",
   "execution_count": 64,
   "metadata": {},
   "outputs": [
    {
     "data": {
      "image/png": "[encoded data removed]",
      "text/plain": [
       "<Figure size 576x288 with 1 Axes>"
      ]
     },
     "metadata": {},
     "output_type": "display_data"
    }
   ],
   "source": [
    "# After binning plot of count of movies vs release_pattern_display\n",
    "\n",
    "plt.figure(figsize=(8,4))\n",
    "descending_order = data_testcopy['release_pattern_display'].value_counts().sort_values(ascending=False).index\n",
    "ax = sns.countplot(x=\"release_pattern_display\", data=data_testcopy, palette=\"Set1\",saturation = 0.5, order=descending_order)\n",
    "plt.xticks(rotation=45)\n",
    "plt.show()"
   ]
  },
  {
   "cell_type": "code",
   "execution_count": 65,
   "metadata": {},
   "outputs": [],
   "source": [
    "# Dropping columns not needed for further analysis\n",
    "\n",
    "data_testcopy.drop(['language'], axis=1, inplace=True)\n",
    "data_testcopy.drop(['production_year'], axis=1, inplace=True)\n",
    "data_testcopy.drop(['production_method'], axis=1, inplace=True)\n",
    "data_testcopy.drop(['movie_release_pattern_display_name'], axis=1, inplace=True)"
   ]
  },
  {
   "cell_type": "code",
   "execution_count": 66,
   "metadata": {},
   "outputs": [],
   "source": [
    "score_data = data_testcopy.copy()"
   ]
  },
  {
   "cell_type": "code",
   "execution_count": 67,
   "metadata": {},
   "outputs": [
    {
     "data": {
      "text/html": [
       "<div>\n",
       "<style scoped>\n",
       "    .dataframe tbody tr th:only-of-type {\n",
       "        vertical-align: middle;\n",
       "    }\n",
       "\n",
       "    .dataframe tbody tr th {\n",
       "        vertical-align: top;\n",
       "    }\n",
       "\n",
       "    .dataframe thead th {\n",
       "        text-align: right;\n",
       "    }\n",
       "</style>\n",
       "<table border=\"1\" class=\"dataframe\">\n",
       "  <thead>\n",
       "    <tr style=\"text-align: right;\">\n",
       "      <th></th>\n",
       "      <th>id</th>\n",
       "      <th>movie_sequel</th>\n",
       "      <th>creative_type</th>\n",
       "      <th>source</th>\n",
       "      <th>genre</th>\n",
       "      <th>movie_board_rating_display_name</th>\n",
       "      <th>lang</th>\n",
       "      <th>prod_method</th>\n",
       "      <th>release_pattern_display</th>\n",
       "    </tr>\n",
       "  </thead>\n",
       "  <tbody>\n",
       "    <tr>\n",
       "      <th>0</th>\n",
       "      <td>7970115</td>\n",
       "      <td>0</td>\n",
       "      <td>Super Hero</td>\n",
       "      <td>Based on Comic/Graphic Novel</td>\n",
       "      <td>Adventure</td>\n",
       "      <td>PG-13</td>\n",
       "      <td>English</td>\n",
       "      <td>Live Action</td>\n",
       "      <td>Wide</td>\n",
       "    </tr>\n",
       "    <tr>\n",
       "      <th>1</th>\n",
       "      <td>174540115</td>\n",
       "      <td>1</td>\n",
       "      <td>Super Hero</td>\n",
       "      <td>Based on Comic/Graphic Novel</td>\n",
       "      <td>Action</td>\n",
       "      <td>PG-13</td>\n",
       "      <td>English</td>\n",
       "      <td>Live Action</td>\n",
       "      <td>Wide</td>\n",
       "    </tr>\n",
       "    <tr>\n",
       "      <th>2</th>\n",
       "      <td>149080115</td>\n",
       "      <td>1</td>\n",
       "      <td>Contemporary Fiction</td>\n",
       "      <td>Based on Fiction Book/Short Story</td>\n",
       "      <td>Action</td>\n",
       "      <td>PG-13</td>\n",
       "      <td>English</td>\n",
       "      <td>Live Action</td>\n",
       "      <td>Wide</td>\n",
       "    </tr>\n",
       "    <tr>\n",
       "      <th>3</th>\n",
       "      <td>136020115</td>\n",
       "      <td>1</td>\n",
       "      <td>Fantasy</td>\n",
       "      <td>Based on Fiction Book/Short Story</td>\n",
       "      <td>Drama</td>\n",
       "      <td>PG-13</td>\n",
       "      <td>English</td>\n",
       "      <td>Live Action</td>\n",
       "      <td>Wide</td>\n",
       "    </tr>\n",
       "    <tr>\n",
       "      <th>4</th>\n",
       "      <td>53500115</td>\n",
       "      <td>1</td>\n",
       "      <td>Fantasy</td>\n",
       "      <td>Based on Fiction Book/Short Story</td>\n",
       "      <td>Adventure</td>\n",
       "      <td>PG-13</td>\n",
       "      <td>English</td>\n",
       "      <td>Animation</td>\n",
       "      <td>Wide</td>\n",
       "    </tr>\n",
       "  </tbody>\n",
       "</table>\n",
       "</div>"
      ],
      "text/plain": [
       "          id  movie_sequel         creative_type  \\\n",
       "0    7970115             0            Super Hero   \n",
       "1  174540115             1            Super Hero   \n",
       "2  149080115             1  Contemporary Fiction   \n",
       "3  136020115             1               Fantasy   \n",
       "4   53500115             1               Fantasy   \n",
       "\n",
       "                              source      genre  \\\n",
       "0       Based on Comic/Graphic Novel  Adventure   \n",
       "1       Based on Comic/Graphic Novel     Action   \n",
       "2  Based on Fiction Book/Short Story     Action   \n",
       "3  Based on Fiction Book/Short Story      Drama   \n",
       "4  Based on Fiction Book/Short Story  Adventure   \n",
       "\n",
       "  movie_board_rating_display_name     lang  prod_method  \\\n",
       "0                           PG-13  English  Live Action   \n",
       "1                           PG-13  English  Live Action   \n",
       "2                           PG-13  English  Live Action   \n",
       "3                           PG-13  English  Live Action   \n",
       "4                           PG-13  English    Animation   \n",
       "\n",
       "  release_pattern_display  \n",
       "0                    Wide  \n",
       "1                    Wide  \n",
       "2                    Wide  \n",
       "3                    Wide  \n",
       "4                    Wide  "
      ]
     },
     "execution_count": 67,
     "metadata": {},
     "output_type": "execute_result"
    }
   ],
   "source": [
    "score_data.head()"
   ]
  },
  {
   "cell_type": "markdown",
   "metadata": {},
   "source": [
    "### Creating dummy variables as part of feature engineering on test data"
   ]
  },
  {
   "cell_type": "code",
   "execution_count": 68,
   "metadata": {},
   "outputs": [
    {
     "data": {
      "text/plain": [
       "(91, 41)"
      ]
     },
     "execution_count": 68,
     "metadata": {},
     "output_type": "execute_result"
    }
   ],
   "source": [
    "# Get dummies\n",
    "score_data = score_data.loc[:, score_data.columns != 'id']\n",
    "\n",
    "score_data = pd.get_dummies(score_data)\n",
    "\n",
    "ID_test =  data_testcopy.loc[:, data_testcopy.columns == 'id']\n",
    "\n",
    "score_data = pd.concat([score_data.reset_index(drop=True), ID_test], axis=1)\n",
    "\n",
    "score_data.shape"
   ]
  },
  {
   "cell_type": "markdown",
   "metadata": {},
   "source": [
    "### The below code gets the names of columns which are present in train data but not present in test data after feature engineering was done"
   ]
  },
  {
   "cell_type": "code",
   "execution_count": 69,
   "metadata": {},
   "outputs": [],
   "source": [
    "\n",
    "train_cols = all_data.columns\n",
    "test_cols = score_data.columns\n",
    "\n",
    "common_cols = train_cols.intersection(test_cols)\n",
    "train_not_test = train_cols.difference(test_cols)"
   ]
  },
  {
   "cell_type": "code",
   "execution_count": 70,
   "metadata": {},
   "outputs": [
    {
     "name": "stdout",
     "output_type": "stream",
     "text": [
      "['creative_type_Multiple Creative Types', 'genre_Black Comedy', 'genre_Multiple Genres', 'genre_Musical', 'genre_Western', 'movie_board_rating_display_name_NC-17', 'prod_method_Other', 'source_Based on Musical or Opera', 'source_Based on Short Film', 'source_Based on Theme Park Ride', 'source_Based on Toy', 'source_Compilation', 'source_Spin-Off']\n"
     ]
    }
   ],
   "source": [
    "print(list(train_not_test))"
   ]
  },
  {
   "cell_type": "code",
   "execution_count": 71,
   "metadata": {},
   "outputs": [],
   "source": [
    "len(train_not_test)\n",
    "score_data_dummy = score_data.copy()"
   ]
  },
  {
   "cell_type": "code",
   "execution_count": 72,
   "metadata": {},
   "outputs": [],
   "source": [
    "columns = list(train_not_test)"
   ]
  },
  {
   "cell_type": "code",
   "execution_count": 73,
   "metadata": {},
   "outputs": [
    {
     "data": {
      "text/plain": [
       "(91, 13)"
      ]
     },
     "execution_count": 73,
     "metadata": {},
     "output_type": "execute_result"
    }
   ],
   "source": [
    "df1 = all_data[columns]\n",
    "df1 = df1[0:len(score_data)]\n",
    "df1[:] = 0\n",
    "df1.shape"
   ]
  },
  {
   "cell_type": "code",
   "execution_count": 74,
   "metadata": {},
   "outputs": [],
   "source": [
    "score_data = pd.concat([score_data.reset_index(drop=True), df1], axis=1)"
   ]
  },
  {
   "cell_type": "code",
   "execution_count": 75,
   "metadata": {},
   "outputs": [
    {
     "data": {
      "text/plain": [
       "(91, 54)"
      ]
     },
     "execution_count": 75,
     "metadata": {},
     "output_type": "execute_result"
    }
   ],
   "source": [
    "score_data.shape"
   ]
  },
  {
   "cell_type": "code",
   "execution_count": 76,
   "metadata": {},
   "outputs": [],
   "source": [
    "score_data_model = score_data.copy()"
   ]
  },
  {
   "cell_type": "code",
   "execution_count": 77,
   "metadata": {},
   "outputs": [],
   "source": [
    "score_data_model.drop(['id'], axis=1, inplace=True)"
   ]
  },
  {
   "cell_type": "code",
   "execution_count": 78,
   "metadata": {},
   "outputs": [],
   "source": [
    "# predict all models\n",
    "lasso_pred_test = np.expm1(model_lasso.predict(score_data_model))"
   ]
  },
  {
   "cell_type": "code",
   "execution_count": 79,
   "metadata": {},
   "outputs": [],
   "source": [
    "\n",
    "elastic_pred_test = np.expm1(model_elastic.predict(score_data_model))\n"
   ]
  },
  {
   "cell_type": "code",
   "execution_count": 80,
   "metadata": {},
   "outputs": [],
   "source": [
    "\n",
    "ridge_pred_test = np.expm1(model_ridge.predict(score_data_model))\n"
   ]
  },
  {
   "cell_type": "markdown",
   "metadata": {},
   "source": [
    "## stacked model Output"
   ]
  },
  {
   "cell_type": "code",
   "execution_count": 81,
   "metadata": {},
   "outputs": [],
   "source": [
    "\n",
    "stacked = (lasso_pred_test + ridge_pred_test + elastic_pred_test) / 3"
   ]
  },
  {
   "cell_type": "code",
   "execution_count": 82,
   "metadata": {},
   "outputs": [],
   "source": [
    "# Setting up competition submission\n",
    "sub_test = pd.DataFrame()\n",
    "sub_test['Id'] = score_data['id']\n",
    "sub_test['total'] = stacked"
   ]
  },
  {
   "cell_type": "code",
   "execution_count": 83,
   "metadata": {},
   "outputs": [],
   "source": [
    "category= []\n",
    "for i in range(len(sub_test)):\n",
    "    if sub_test['total'][i] >= 200 :\n",
    "        category.append(9)\n",
    "    elif sub_test['total'][i] >= 150 and sub_test['total'][i] < 200:\n",
    "        category.append(8)\n",
    "    elif sub_test['total'][i] >= 100 and sub_test['total'][i] < 150:\n",
    "        category.append(7)\n",
    "    elif sub_test['total'][i] >= 65 and sub_test['total'][i] < 100:\n",
    "        category.append(6)\n",
    "    elif sub_test['total'][i] >= 40 and sub_test['total'][i] < 65:\n",
    "        category.append(5)\n",
    "    elif sub_test['total'][i] >= 20 and sub_test['total'][i] < 40:\n",
    "        category.append(4)\n",
    "    elif sub_test['total'][i] >= 10 and sub_test['total'][i] < 20:\n",
    "        category.append(3)\n",
    "    elif sub_test['total'][i] >= 1 and sub_test['total'][i] < 10:\n",
    "        category.append(2)\n",
    "    else:\n",
    "        category.append(1)"
   ]
  },
  {
   "cell_type": "code",
   "execution_count": 84,
   "metadata": {},
   "outputs": [
    {
     "data": {
      "text/html": [
       "<div>\n",
       "<style scoped>\n",
       "    .dataframe tbody tr th:only-of-type {\n",
       "        vertical-align: middle;\n",
       "    }\n",
       "\n",
       "    .dataframe tbody tr th {\n",
       "        vertical-align: top;\n",
       "    }\n",
       "\n",
       "    .dataframe thead th {\n",
       "        text-align: right;\n",
       "    }\n",
       "</style>\n",
       "<table border=\"1\" class=\"dataframe\">\n",
       "  <thead>\n",
       "    <tr style=\"text-align: right;\">\n",
       "      <th></th>\n",
       "      <th>Id</th>\n",
       "      <th>total</th>\n",
       "      <th>Category</th>\n",
       "    </tr>\n",
       "  </thead>\n",
       "  <tbody>\n",
       "    <tr>\n",
       "      <th>0</th>\n",
       "      <td>7970115</td>\n",
       "      <td>38.734280</td>\n",
       "      <td>4</td>\n",
       "    </tr>\n",
       "    <tr>\n",
       "      <th>1</th>\n",
       "      <td>174540115</td>\n",
       "      <td>66.227041</td>\n",
       "      <td>6</td>\n",
       "    </tr>\n",
       "    <tr>\n",
       "      <th>2</th>\n",
       "      <td>149080115</td>\n",
       "      <td>42.057585</td>\n",
       "      <td>5</td>\n",
       "    </tr>\n",
       "    <tr>\n",
       "      <th>3</th>\n",
       "      <td>136020115</td>\n",
       "      <td>43.721314</td>\n",
       "      <td>5</td>\n",
       "    </tr>\n",
       "    <tr>\n",
       "      <th>4</th>\n",
       "      <td>53500115</td>\n",
       "      <td>124.828666</td>\n",
       "      <td>7</td>\n",
       "    </tr>\n",
       "  </tbody>\n",
       "</table>\n",
       "</div>"
      ],
      "text/plain": [
       "          Id       total  Category\n",
       "0    7970115   38.734280         4\n",
       "1  174540115   66.227041         6\n",
       "2  149080115   42.057585         5\n",
       "3  136020115   43.721314         5\n",
       "4   53500115  124.828666         7"
      ]
     },
     "execution_count": 84,
     "metadata": {},
     "output_type": "execute_result"
    }
   ],
   "source": [
    "dfObj = pd.DataFrame(category)\n",
    "sub_test = pd.concat([sub_test.reset_index(drop=True), dfObj], axis=1)\n",
    "sub_test = sub_test.rename(columns={0: 'Category'})\n",
    "sub_test.head()"
   ]
  },
  {
   "cell_type": "code",
   "execution_count": 86,
   "metadata": {},
   "outputs": [],
   "source": [
    "# Make a csv for submission\n",
    "\n",
    "sub_test.to_csv('movie_predictions_testvalidation.csv',index=False)"
   ]
  }
 ],
 "metadata": {
  "kernelspec": {
   "display_name": "Python 3",
   "language": "python",
   "name": "python3"
  },
  "language_info": {
   "codemirror_mode": {
    "name": "ipython",
    "version": 3
   },
   "file_extension": ".py",
   "mimetype": "text/x-python",
   "name": "python",
   "nbconvert_exporter": "python",
   "pygments_lexer": "ipython3",
   "version": "3.6.5"
  }
 },
 "nbformat": 4,
 "nbformat_minor": 2
}
